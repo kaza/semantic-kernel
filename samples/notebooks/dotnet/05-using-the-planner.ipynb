{
 "cells": [
  {
   "attachments": {},
   "cell_type": "markdown",
   "metadata": {},
   "source": [
    "# Introduction to the Planner\n",
    "\n",
    "The Planner is one of the fundamental concepts of the Semantic Kernel. It makes use of the collection of skills that have been registered to the kernel and using AI, will formulate a plan to execute a given ask.\n",
    "\n",
    "Read more about it [here](https://aka.ms/sk/concepts/planner)."
   ]
  },
  {
   "cell_type": "code",
   "execution_count": 45,
   "metadata": {
    "dotnet_interactive": {
     "language": "csharp"
    },
    "polyglot_notebook": {
     "kernelName": "csharp"
    }
   },
   "outputs": [
    {
     "data": {
      "text/html": [
       "<div><div></div><div></div><div><strong>Installed Packages</strong><ul><li><span>Microsoft.SemanticKernel, 0.13.442.1-preview</span></li></ul></div></div>"
      ]
     },
     "metadata": {},
     "output_type": "display_data"
    }
   ],
   "source": [
    "#r \"nuget: Microsoft.SemanticKernel, 0.13.442.1-preview\"\n",
    "\n",
    "#!import config/Settings.cs\n",
    "#!import config/Utils.cs\n",
    "\n",
    "using Microsoft.SemanticKernel;\n",
    "using Microsoft.SemanticKernel.CoreSkills;\n",
    "using Microsoft.SemanticKernel.Orchestration;\n",
    "using Microsoft.SemanticKernel.Planning;\n",
    "using Microsoft.SemanticKernel.Planning.Sequential;\n",
    "\n",
    "IKernel kernel = KernelBuilder.Create();\n",
    "\n",
    "// Configure AI backend used by the kernel\n",
    "var (useAzureOpenAI, model, azureEndpoint, apiKey, orgId) = Settings.LoadFromFile();\n",
    "\n",
    "\n",
    "if (useAzureOpenAI)\n",
    "    kernel.Config.AddAzureTextCompletionService( model, azureEndpoint, apiKey);\n",
    "else\n",
    "    kernel.Config.AddOpenAITextCompletionService( model, apiKey, orgId);\n"
   ]
  },
  {
   "attachments": {},
   "cell_type": "markdown",
   "metadata": {},
   "source": [
    "### Setting Up the Planner\n",
    "The planner is located in the Semantic Kernel's CoreSkills and requires Orchestration"
   ]
  },
  {
   "cell_type": "code",
   "execution_count": 46,
   "metadata": {
    "dotnet_interactive": {
     "language": "csharp"
    },
    "polyglot_notebook": {
     "kernelName": "csharp"
    }
   },
   "outputs": [],
   "source": [
    "// Load native skill into the kernel registry, sharing its functions with prompt templates\n",
    " var planner = new SequentialPlanner(kernel);"
   ]
  },
  {
   "attachments": {},
   "cell_type": "markdown",
   "metadata": {},
   "source": [
    "### Providing skills to the planner\n",
    "The planner needs to know what skills are available to it. Here we'll give it access to the `SummarizeSkill` and `WriterSkill` we have defined on disk."
   ]
  },
  {
   "cell_type": "code",
   "execution_count": 47,
   "metadata": {
    "dotnet_interactive": {
     "language": "csharp"
    },
    "polyglot_notebook": {
     "kernelName": "csharp"
    }
   },
   "outputs": [],
   "source": [
    "var skillsDirectory = Path.Combine(System.IO.Directory.GetCurrentDirectory(), \"..\", \"..\", \"skills\");\n",
    "kernel.ImportSemanticSkillFromDirectory(skillsDirectory, \"SummarizeSkill\");\n",
    "kernel.ImportSemanticSkillFromDirectory(skillsDirectory, \"WriterSkill\");"
   ]
  },
  {
   "attachments": {},
   "cell_type": "markdown",
   "metadata": {},
   "source": [
    "Define your ASK. What do you want the Kernel to do?"
   ]
  },
  {
   "cell_type": "code",
   "execution_count": 48,
   "metadata": {
    "dotnet_interactive": {
     "language": "csharp"
    },
    "polyglot_notebook": {
     "kernelName": "csharp"
    }
   },
   "outputs": [
    {
     "name": "stdout",
     "output_type": "stream",
     "text": [
      "Original plan:\n",
      "\n",
      " Goal: Tomorrow is Valentine's day. I need to come up with a few date ideas and e-mail them to my significant other.\n",
      "\n",
      " Steps:\n",
      "  - WriterSkill.Brainstorm INPUT='Valentine's Day Date Ideas' => DATE_IDEAS\n",
      "  - WriterSkill.EmailGen INPUT='$DATE_IDEAS' => EMAIL_TEXT\n",
      "  - Microsoft.SemanticKernel.Planning.Plan. INPUT=''\n"
     ]
    }
   ],
   "source": [
    "var ask = \"Tomorrow is Valentine's day. I need to come up with a few date ideas and e-mail them to my significant other.\";\n",
    "var originalPlan = await planner.CreatePlanAsync(ask);\n",
    "\n",
    "Console.WriteLine(\"Original plan:\\n\");\n",
    "Console.WriteLine(Utils.ToPlanString(originalPlan));\n",
    "\n"
   ]
  },
  {
   "attachments": {},
   "cell_type": "markdown",
   "metadata": {},
   "source": [
    "As you can see in the above plan, the Planner has taken the user's ask and converted it into an XML-based plan detailing how the AI would go about solving this task.\n",
    "\n",
    "It makes use of the skills that the Kernel has available to it and determines which functions to call in order to fullfill the user's ask.\n",
    "\n",
    "The output of each step of the plan gets set as `setContextVariable` which makes it available as `input` to the next skill."
   ]
  },
  {
   "attachments": {},
   "cell_type": "markdown",
   "metadata": {},
   "source": [
    "Let's also define an inline skill and have it be available to the Planner.\n",
    "Be sure to give it a function name and skill name."
   ]
  },
  {
   "cell_type": "code",
   "execution_count": 49,
   "metadata": {
    "dotnet_interactive": {
     "language": "csharp"
    },
    "polyglot_notebook": {
     "kernelName": "csharp"
    }
   },
   "outputs": [],
   "source": [
    "string skPrompt = \"\"\"\n",
    "{{$input}}\n",
    "\n",
    "Rewrite the above in the style of Shakespeare.\n",
    "\"\"\";\n",
    "var shakespeareFunction = kernel.CreateSemanticFunction(skPrompt, \"shakespeare\", \"ShakespeareSkill\", maxTokens: 2000, temperature: 0.2, topP: 0.5);"
   ]
  },
  {
   "attachments": {},
   "cell_type": "markdown",
   "metadata": {},
   "source": [
    "Let's update our ask using this new skill."
   ]
  },
  {
   "cell_type": "code",
   "execution_count": 50,
   "metadata": {
    "dotnet_interactive": {
     "language": "csharp"
    },
    "polyglot_notebook": {
     "kernelName": "csharp"
    }
   },
   "outputs": [
    {
     "name": "stdout",
     "output_type": "stream",
     "text": [
      "Updated plan:\n",
      "\n",
      " Goal: Tomorrow is Valentine's day. I need to come up with a few date ideas.\n",
      " She likes Shakespeare so write using his style. E-mail these ideas to my significant other\n",
      "\n",
      " Steps:\n",
      "  - WriterSkill.Brainstorm INPUT='Valentine's day date ideas' => IDEAS\n",
      "  - ShakespeareSkill.shakespeare INPUT='$IDEAS' => SHAKESPEARE_IDEAS\n",
      "  - Microsoft.SemanticKernel.Planning.Plan. INPUT=''\n",
      "  - Microsoft.SemanticKernel.Planning.Plan. INPUT=''\n"
     ]
    }
   ],
   "source": [
    "var ask = @\"Tomorrow is Valentine's day. I need to come up with a few date ideas.\n",
    " She likes Shakespeare so write using his style. E-mail these ideas to my significant other\";\n",
    "var newPlan = await  planner.CreatePlanAsync(ask);\n",
    "Console.WriteLine(\"Updated plan:\\n\");\n",
    "Console.WriteLine(Utils.ToPlanString(newPlan));"
   ]
  },
  {
   "attachments": {},
   "cell_type": "markdown",
   "metadata": {},
   "source": [
    "### Executing the plans\n",
    "\n",
    "Now that we have different plans, let's try to execute them! The Kernel can execute the plan using RunAsync."
   ]
  },
  {
   "cell_type": "code",
   "execution_count": 51,
   "metadata": {
    "dotnet_interactive": {
     "language": "csharp"
    },
    "polyglot_notebook": {
     "kernelName": "csharp"
    }
   },
   "outputs": [
    {
     "name": "stdout",
     "output_type": "stream",
     "text": [
      "Original Plan  results:\n",
      "\n",
      "If you're looking for a romantic activity to do with your partner, why not\n",
      "consider going to a romantic movie, making a romantic dinner at home, going for\n",
      "a walk in a park, having a picnic in a scenic spot, taking a hot air balloon\n",
      "ride, going to a local art gallery, taking a cooking class together, enjoying a\n",
      "romantic sunset cruise, visiting a romantic restaurant, or having a romantic spa\n",
      "day?\n",
      "\n"
     ]
    }
   ],
   "source": [
    "var originalPlanResult = await kernel.RunAsync(originalPlan);\n",
    "\n",
    "Console.WriteLine(\"Original Plan  results:\\n\");\n",
    "Console.WriteLine(Utils.WordWrap(originalPlanResult.Result, 80));\n",
    "\n"
   ]
  },
  {
   "attachments": {},
   "cell_type": "markdown",
   "metadata": {},
   "source": [
    "Now lets execute and print the new plan:"
   ]
  },
  {
   "cell_type": "code",
   "execution_count": 52,
   "metadata": {
    "dotnet_interactive": {
     "language": "csharp"
    },
    "polyglot_notebook": {
     "kernelName": "csharp"
    }
   },
   "outputs": [
    {
     "name": "stdout",
     "output_type": "stream",
     "text": [
      "New  Plan  results:\n",
      "\n",
      "1. Prepare a meal of love in thine own abode\n",
      "2. Wander in the park, hand in hand, a-roam\n",
      "3. To a fine restaurant, let us go and dine\n",
      "4. In the garden, a picnic, let us design\n",
      "5. To a drive-in movie, let us away\n",
      "6. Together a cooking class, let us take this day\n",
      "7. To a local art museum, let us go\n",
      "8. A scenic drive, let us take and show\n",
      "9. Horseback riding, let us go and try\n",
      "10. A spa day, let us have and pry\n"
     ]
    }
   ],
   "source": [
    "var newPlanResult = await kernel.RunAsync(newPlan);\n",
    "Console.WriteLine(\"New  Plan  results:\\n\");\n",
    "Console.WriteLine(newPlanResult.Result);\n"
   ]
  }
 ],
 "metadata": {
  "kernelspec": {
   "display_name": ".NET (C#)",
   "language": "C#",
   "name": ".net-csharp"
  },
  "language_info": {
   "name": "polyglot-notebook"
  },
  "polyglot_notebook": {
   "kernelInfo": {
    "defaultKernelName": "csharp",
    "items": [
     {
      "aliases": [],
      "name": "csharp"
     }
    ]
   }
  }
 },
 "nbformat": 4,
 "nbformat_minor": 2
}
